{
 "cells": [
  {
   "cell_type": "code",
   "execution_count": 1,
   "id": "1d72cf5a",
   "metadata": {},
   "outputs": [],
   "source": [
    "import sys\n",
    "sys.path.append('../') # use the parent directory\n",
    "\n",
    "import warnings\n",
    "warnings.filterwarnings(\"ignore\")\n",
    "\n",
    "import model"
   ]
  },
  {
   "cell_type": "code",
   "execution_count": 2,
   "id": "54b3f536",
   "metadata": {},
   "outputs": [],
   "source": [
    "bert = model.BertModel()"
   ]
  },
  {
   "cell_type": "code",
   "execution_count": 3,
   "id": "1e4c1218",
   "metadata": {},
   "outputs": [],
   "source": [
    "texts = [\n",
    "    \"I will continue to work on the prototype that designs the user interface (UI)\",\n",
    "    \"Continue to code the frontend interface (UI) of the dashboard\",\n",
    "    \"Add new features to the UI\",\n",
    "    \"Work to redesign parts of the UI/UX that users feedback\",\n",
    "    \"Have a discussion with the team how the UI/UX flow should be\",\n",
    "    \"Finalise making changes to the UI and open a PR to merge\",\n",
    "    \"Roll out the newly designed UI\",\n",
    "    \"Spin up a container to serve the cookiedough's frontend (UI).\",\n",
    "    \"Continue to code the homepage design (UI) Design the UI for blob website\",\n",
    "    \"Take down the frontend (UI) server and work on it as per the scheduled maintenance\",\n",
    "    \"I will work on the UI for the website that the customer pot seller XXX request\",\n",
    "    \"Troubleshoot faulty API endpoint at '/help/me'\",\n",
    "    \"I will be moving the API designed in 2020 to the archive storage\",\n",
    "    \"Design the different API endpoints for our apps to allow others to use its service\",\n",
    "    \"Enable 50/50 traffic to old and new API to slowly migrate users\",\n",
    "    \"Publish the API endpoints using Apigee Setup analysing of the APIs' at Apigee to track traffic spikes\",\n",
    "    \"I will work to rearchitect the API endpoints that the business users has access to\",\n",
    "    \"I will be working on the documentation for the API endpoints\",\n",
    "    \"I will be focusing to minimise the downtime to migrate users to the new API endpoints\",\n",
    "    \"I will have the APIs' to have a standardised specification using OpenAPI\",\n",
    "    \"Will be working to fix the broken button that sends the API request\",\n",
    "    \"I will be working on the logic to script spinning up the containers for unit testing\",\n",
    "    \"I will write the logic to enable users to make submission of responses through the 'users/responses' endpoint\",\n",
    "    \"I will be working on the serving logic so that users can make inference through the 'models/inference' endpoint\",\n",
    "    \"I will be working on the logic that enables push notification to be sent upon user subscription\",\n",
    "    \"I will be adding the backend logic to allocate points if user stays on our site for 5 mins\",\n",
    "    \"Work on the logic to have a smooth edge when the animated cat ear folds\",\n",
    "    \"Work on the logic to build a stop motion camera with Raspberry Pi\",\n",
    "    \"I will continue to code the logic to animate the blobs movement based on users voice command\",\n",
    "    \"I will work on the logic to make the clock tick when user press the left-arrow key button\",\n",
    "    \"Work on the serving logic for BERT model\",\n",
    "    \"Meet with stakeholders to go through the app's logic flow\",\n",
    "    \"Continue to do the logic for payment plans for users to access different tiers of API usage\",\n",
    "    \"Finalise the backend logic to pop a ballon when the users click on it\",\n",
    "    \"Schedule a time with standupbento to discuss the logic flow for the chief app\",\n",
    "    \"Debug the faulty logic that occurs during sign up for users\",\n",
    "    \"I will be working on the backend maintenance of the app and resume the service once done\",\n",
    "    \"I will be working to document the app features/functionalities and how it works\"\n",
    "]"
   ]
  },
  {
   "cell_type": "code",
   "execution_count": 4,
   "id": "cc77d213",
   "metadata": {},
   "outputs": [
    {
     "data": {
      "image/png": "[encoded data removed]",
      "text/plain": [
       "<Figure size 432x288 with 1 Axes>"
      ]
     },
     "metadata": {
      "needs_background": "light"
     },
     "output_type": "display_data"
    }
   ],
   "source": [
    "bert.visualize(texts)"
   ]
  }
 ],
 "metadata": {
  "kernelspec": {
   "display_name": "Python 3 (ipykernel)",
   "language": "python",
   "name": "python3"
  },
  "language_info": {
   "codemirror_mode": {
    "name": "ipython",
    "version": 3
   },
   "file_extension": ".py",
   "mimetype": "text/x-python",
   "name": "python",
   "nbconvert_exporter": "python",
   "pygments_lexer": "ipython3",
   "version": "3.8.9"
  }
 },
 "nbformat": 4,
 "nbformat_minor": 5
}
