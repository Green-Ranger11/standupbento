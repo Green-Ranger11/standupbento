{
 "cells": [
  {
   "cell_type": "code",
   "execution_count": 1,
   "id": "1d72cf5a",
   "metadata": {},
   "outputs": [],
   "source": [
    "import model"
   ]
  },
  {
   "cell_type": "code",
   "execution_count": 2,
   "id": "1e4c1218",
   "metadata": {},
   "outputs": [],
   "source": [
    "texts = [\n",
    "    'this api sucks?',\n",
    "    'The API seems broken! HELP!',\n",
    "    'It seems like there\\'s a bug in the API, I\\'ll try fixing it soon!',\n",
    "    'I\\'m having trouble getting the API to work!',\n",
    "    'I love the new UI',\n",
    "    'Who designed the UI? It looks wonderful!',\n",
    "]"
   ]
  },
  {
   "cell_type": "code",
   "execution_count": 3,
   "id": "47ef6ee0",
   "metadata": {},
   "outputs": [],
   "source": [
    "bert = model.BertModel()"
   ]
  },
  {
   "cell_type": "code",
   "execution_count": 5,
   "id": "a002117e",
   "metadata": {},
   "outputs": [
    {
     "data": {
      "text/plain": [
       "array([[ 0.0000000e+00,  2.2651923e-01,  2.3070359e-01,  2.3589492e-01,\n",
       "         2.0633662e-01,  2.2573823e-01],\n",
       "       [ 2.2651923e-01, -3.5762787e-07,  3.9813399e-02,  3.2402575e-02,\n",
       "         8.7226808e-02,  5.5109322e-02],\n",
       "       [ 2.3070359e-01,  3.9813399e-02,  2.3841858e-07,  3.1510234e-02,\n",
       "         8.5792124e-02,  5.9770703e-02],\n",
       "       [ 2.3589492e-01,  3.2402575e-02,  3.1510234e-02,  0.0000000e+00,\n",
       "         7.8765810e-02,  4.7949612e-02],\n",
       "       [ 2.0633662e-01,  8.7226808e-02,  8.5792124e-02,  7.8765810e-02,\n",
       "         7.1525574e-07,  7.7652097e-02],\n",
       "       [ 2.2573823e-01,  5.5109322e-02,  5.9770703e-02,  4.7949612e-02,\n",
       "         7.7652097e-02,  8.3446503e-07]], dtype=float32)"
      ]
     },
     "execution_count": 5,
     "metadata": {},
     "output_type": "execute_result"
    }
   ],
   "source": [
    "bert.embed_responses(texts)"
   ]
  },
  {
   "cell_type": "code",
   "execution_count": null,
   "id": "3dace535",
   "metadata": {},
   "outputs": [],
   "source": []
  }
 ],
 "metadata": {
  "kernelspec": {
   "display_name": "Python 3 (ipykernel)",
   "language": "python",
   "name": "python3"
  },
  "language_info": {
   "codemirror_mode": {
    "name": "ipython",
    "version": 3
   },
   "file_extension": ".py",
   "mimetype": "text/x-python",
   "name": "python",
   "nbconvert_exporter": "python",
   "pygments_lexer": "ipython3",
   "version": "3.8.9"
  }
 },
 "nbformat": 4,
 "nbformat_minor": 5
}
