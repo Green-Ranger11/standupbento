{
 "cells": [
  {
   "cell_type": "code",
   "execution_count": 1,
   "id": "1d72cf5a",
   "metadata": {},
   "outputs": [],
   "source": [
    "sys.path.append('../') # use the parent directory\n",
    "\n",
    "import model"
   ]
  },
  {
   "cell_type": "code",
   "execution_count": 2,
   "id": "1e4c1218",
   "metadata": {},
   "outputs": [],
   "source": [
    "texts = [\n",
    "    \"Will be working to fix the broken button that sends the API request\",\n",
    "    \"I will be working on the documentation for the API endpoints\",\n",
    "    \"I will continue to work on the prototype that designs the user interface (UI)\",\n",
    "    \"I will be working on the logic that enables push notification to be sent upon user subscription\",\n",
    "    \"I will have the APIs' to have a standardised specification using OpenAPI\"\n",
    "]"
   ]
  },
  {
   "cell_type": "code",
   "execution_count": 3,
   "id": "47ef6ee0",
   "metadata": {},
   "outputs": [],
   "source": [
    "bert = model.BertModel()"
   ]
  },
  {
   "cell_type": "code",
   "execution_count": 4,
   "id": "a002117e",
   "metadata": {},
   "outputs": [
    {
     "data": {
      "text/plain": [
       "array([[ 1.1920929e-06,  3.7701547e-02,  6.2468171e-02,  7.3769212e-02,\n",
       "         1.3222218e-01],\n",
       "       [ 3.7701547e-02,  1.1920929e-07,  3.7870646e-02,  5.6864560e-02,\n",
       "         9.8883986e-02],\n",
       "       [ 6.2468171e-02,  3.7870646e-02, -2.3841858e-07,  4.7800660e-02,\n",
       "         8.8588595e-02],\n",
       "       [ 7.3769212e-02,  5.6864560e-02,  4.7800660e-02, -3.5762787e-07,\n",
       "         9.8988473e-02],\n",
       "       [ 1.3222218e-01,  9.8883986e-02,  8.8588595e-02,  9.8988473e-02,\n",
       "         1.1324883e-06]], dtype=float32)"
      ]
     },
     "execution_count": 4,
     "metadata": {},
     "output_type": "execute_result"
    }
   ],
   "source": [
    "bert.embed_responses(texts)"
   ]
  },
  {
   "cell_type": "code",
   "execution_count": null,
   "id": "3dace535",
   "metadata": {},
   "outputs": [],
   "source": []
  }
 ],
 "metadata": {
  "kernelspec": {
   "display_name": "Python 3 (ipykernel)",
   "language": "python",
   "name": "python3"
  },
  "language_info": {
   "codemirror_mode": {
    "name": "ipython",
    "version": 3
   },
   "file_extension": ".py",
   "mimetype": "text/x-python",
   "name": "python",
   "nbconvert_exporter": "python",
   "pygments_lexer": "ipython3",
   "version": "3.8.9"
  }
 },
 "nbformat": 4,
 "nbformat_minor": 5
}
